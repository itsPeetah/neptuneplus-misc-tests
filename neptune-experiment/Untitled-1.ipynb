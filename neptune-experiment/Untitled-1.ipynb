{
 "cells": [
  {
   "cell_type": "code",
   "execution_count": 63,
   "id": "2807bc1f",
   "metadata": {},
   "outputs": [],
   "source": [
    "import requests\n",
    "import time\n",
    "import threading\n",
    "import os\n",
    "import io"
   ]
  },
  {
   "cell_type": "code",
   "execution_count": 64,
   "id": "11028e67",
   "metadata": {},
   "outputs": [],
   "source": [
    "URL_TO_HIT = \"http://localhost:8080/function/openfaas-fn/prime-numbers/prime/50000\""
   ]
  },
  {
   "cell_type": "markdown",
   "id": "5ad97676",
   "metadata": {},
   "source": [
    "# Requests"
   ]
  },
  {
   "cell_type": "code",
   "execution_count": 65,
   "id": "b325a9bb",
   "metadata": {},
   "outputs": [],
   "source": [
    "def make_ramp(start_count:int, end_count:int, steps:int, start_padding:int = 0, end_padding:int = 0)->list[int]:\n",
    "    delta = end_count - start_count\n",
    "    return [start_count for _ in range(start_padding)] + [start_count + int((i/steps)*delta) for i in range(steps+1)] + [end_count for _ in range(end_padding)]"
   ]
  },
  {
   "cell_type": "code",
   "execution_count": 66,
   "id": "46c8a904",
   "metadata": {},
   "outputs": [],
   "source": [
    "def do_request():\n",
    "    r = requests.get(\n",
    "       URL_TO_HIT\n",
    "    )\n",
    "\n",
    "def run_requests(ramp:list[int]):\n",
    "    for reqs in ramp:\n",
    "      for i in range(reqs):\n",
    "         threading.Thread(target=do_request).start()\n",
    "      time.sleep(1)"
   ]
  },
  {
   "cell_type": "markdown",
   "id": "c700af9b",
   "metadata": {},
   "source": [
    "# Analysis"
   ]
  },
  {
   "cell_type": "code",
   "execution_count": 67,
   "id": "793a4799",
   "metadata": {},
   "outputs": [],
   "source": [
    "def get_pods(output_file:io.TextIOWrapper, t:int):\n",
    "    txt = os.popen(\"kubectl get pods -n kube-system -o name\").read().strip().split(\"\\n\")[1:]\n",
    "    for line in txt:\n",
    "        output_file.write(str(t) + \" \" + line.strip().replace(\"pod/\", \"\") + \"\\n\")\n",
    "\n",
    "def monitor_pods(file_name:str, duration:int):\n",
    "    with open(file_name, \"w\") as f:\n",
    "        for x in range(duration):\n",
    "            get_pods(f, x+1)\n",
    "            time.sleep(1)\n"
   ]
  },
  {
   "cell_type": "markdown",
   "id": "7ac25e4f",
   "metadata": {},
   "source": [
    "# Main"
   ]
  },
  {
   "cell_type": "code",
   "execution_count": 69,
   "id": "1935fe98",
   "metadata": {},
   "outputs": [
    {
     "name": "stderr",
     "output_type": "stream",
     "text": [
      "Exception in thread Exception in thread Thread-728 (monitor_pods):\n",
      "Thread-729 (run_requests):\n",
      "Traceback (most recent call last):\n",
      "  File \u001b[35m\"/opt/homebrew/Cellar/python@3.13/3.13.5/Frameworks/Python.framework/Versions/3.13/lib/python3.13/threading.py\"\u001b[0m, line \u001b[35m1043\u001b[0m, in \u001b[35m_bootstrap_inner\u001b[0m\n",
      "    \u001b[31mself.run\u001b[0m\u001b[1;31m()\u001b[0m\n",
      "    \u001b[31m~~~~~~~~\u001b[0m\u001b[1;31m^^\u001b[0m\n",
      "  File \u001b[35m\"/Users/pietro/Dev/neptuneplus/neptune-experiment/.venv/lib/python3.13/site-packages/ipykernel/ipkernel.py\"\u001b[0m, line \u001b[35m772\u001b[0m, in \u001b[35mrun_closure\u001b[0m\n",
      "    \u001b[31m_threading_Thread_run\u001b[0m\u001b[1;31m(self)\u001b[0m\n",
      "    \u001b[31m~~~~~~~~~~~~~~~~~~~~~\u001b[0m\u001b[1;31m^^^^^^\u001b[0m\n",
      "  File \u001b[35m\"/opt/homebrew/Cellar/python@3.13/3.13.5/Frameworks/Python.framework/Versions/3.13/lib/python3.13/threading.py\"\u001b[0m, line \u001b[35m994\u001b[0m, in \u001b[35mrun\u001b[0m\n",
      "    \u001b[31mself._target\u001b[0m\u001b[1;31m(*self._args, **self._kwargs)\u001b[0m\n",
      "    \u001b[31m~~~~~~~~~~~~\u001b[0m\u001b[1;31m^^^^^^^^^^^^^^^^^^^^^^^^^^^^^\u001b[0m\n",
      "\u001b[1;35mTypeError\u001b[0m: \u001b[35mrun_requests() takes 1 positional argument but 401 were given\u001b[0m\n",
      "Traceback (most recent call last):\n",
      "  File \u001b[35m\"/opt/homebrew/Cellar/python@3.13/3.13.5/Frameworks/Python.framework/Versions/3.13/lib/python3.13/threading.py\"\u001b[0m, line \u001b[35m1043\u001b[0m, in \u001b[35m_bootstrap_inner\u001b[0m\n",
      "    \u001b[31mself.run\u001b[0m\u001b[1;31m()\u001b[0m\n",
      "    \u001b[31m~~~~~~~~\u001b[0m\u001b[1;31m^^\u001b[0m\n",
      "  File \u001b[35m\"/Users/pietro/Dev/neptuneplus/neptune-experiment/.venv/lib/python3.13/site-packages/ipykernel/ipkernel.py\"\u001b[0m, line \u001b[35m772\u001b[0m, in \u001b[35mrun_closure\u001b[0m\n",
      "    \u001b[31m_threading_Thread_run\u001b[0m\u001b[1;31m(self)\u001b[0m\n",
      "    \u001b[31m~~~~~~~~~~~~~~~~~~~~~\u001b[0m\u001b[1;31m^^^^^^\u001b[0m\n",
      "  File \u001b[35m\"/opt/homebrew/Cellar/python@3.13/3.13.5/Frameworks/Python.framework/Versions/3.13/lib/python3.13/threading.py\"\u001b[0m, line \u001b[35m994\u001b[0m, in \u001b[35mrun\u001b[0m\n",
      "    \u001b[31mself._target\u001b[0m\u001b[1;31m(*self._args, **self._kwargs)\u001b[0m\n",
      "    \u001b[31m~~~~~~~~~~~~\u001b[0m\u001b[1;31m^^^^^^^^^^^^^^^^^^^^^^^^^^^^^\u001b[0m\n",
      "\u001b[1;35mTypeError\u001b[0m: \u001b[35mmonitor_pods() takes 2 positional arguments but 13 were given\u001b[0m\n"
     ]
    },
    {
     "name": "stdout",
     "output_type": "stream",
     "text": [
      "Starting requests\n",
      "Starting analysis\n",
      "Started\n",
      "Joined request thread\n",
      "Joined analysis thread\n",
      "Done.\n"
     ]
    }
   ],
   "source": [
    "t_anal = threading.Thread(target=monitor_pods, args=(\"pod_names.txt\"))\n",
    "t_reqs = threading.Thread(target=run_requests, args=(make_ramp(10,100,100,100,200)))\n",
    "\n",
    "print(\"Starting requests\")\n",
    "t_reqs.start()\n",
    "print(\"Starting analysis\")\n",
    "t_anal.start()\n",
    "print(\"Started\")\n",
    "t_reqs.join()\n",
    "print(\"Joined request thread\")\n",
    "t_anal.join()\n",
    "print(\"Joined analysis thread\")\n",
    "print(\"Done.\")\n",
    "\n"
   ]
  },
  {
   "cell_type": "code",
   "execution_count": null,
   "id": "1b2f0079",
   "metadata": {},
   "outputs": [],
   "source": []
  }
 ],
 "metadata": {
  "kernelspec": {
   "display_name": ".venv",
   "language": "python",
   "name": "python3"
  },
  "language_info": {
   "codemirror_mode": {
    "name": "ipython",
    "version": 3
   },
   "file_extension": ".py",
   "mimetype": "text/x-python",
   "name": "python",
   "nbconvert_exporter": "python",
   "pygments_lexer": "ipython3",
   "version": "3.13.5"
  }
 },
 "nbformat": 4,
 "nbformat_minor": 5
}
